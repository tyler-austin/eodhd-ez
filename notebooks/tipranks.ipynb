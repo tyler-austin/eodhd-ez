{
 "cells": [
  {
   "cell_type": "code",
   "execution_count": null,
   "id": "initial_id",
   "metadata": {
    "collapsed": true
   },
   "outputs": [],
   "source": [
    "import os\n",
    "\n",
    "import pandas as pd\n",
    "\n",
    "\n",
    "def filter_df(temp):\n",
    "\treturn temp[\n",
    "\t\t(round((temp['Price'] / 1), 0) <= 150) &\n",
    "\t\t(temp['Relative Volume'] > 1) &\n",
    "\t\t(temp['Smart Score'] >= 7) &\n",
    "\t\t(temp['Best Analyst Consensus'] == 'Strong Buy') &\n",
    "\t    (temp['News Sentiment'] != 'Very Bearish') &\n",
    "\t\t(temp['News Sentiment'] != 'Bearish') &\n",
    "\t\t(temp['Price Target upside'] >= 10)\n",
    "\t\t]\n",
    "\n",
    "repo_dir = os.path.dirname(os.getcwd())\n",
    "os.makedirs(repo_dir, exist_ok=True)\n",
    "\n",
    "data_dir = os.path.join(repo_dir, 'data')\n",
    "os.makedirs(data_dir, exist_ok=True)\n",
    "\n",
    "tipranks_dir = os.path.join(data_dir, 'tipranks')\n",
    "os.makedirs(tipranks_dir, exist_ok=True)\n",
    "\n",
    "file_name = '<filename>.csv'\n",
    "file_path = os.path.join(tipranks_dir, file_name)\n",
    "\n",
    "df = pd.read_csv(file_path)\n",
    "df.loc[:, 'Price Target upside'] = df['Price Target upside'].str.rstrip('%').astype('float')\n",
    "df.loc[:, 'Price'] = df['Price'].str.replace('$', '')\n",
    "df.loc[:, 'Price'] = df['Price'].str.replace(',', '').astype('float')\n",
    "\n",
    "df = filter_df(df)\n",
    "\n",
    "columns = [\n",
    "\t'Ticker', 'Name',\n",
    "\t'Price', 'Relative Volume', 'Price Target upside',\n",
    "\t'Smart Score', 'Best Analyst Consensus', 'News Sentiment',\n",
    "\t'Market Cap', 'Sector', 'Industry',\n",
    "]\n",
    "\n",
    "df = df[columns]\n",
    "df = df.sort_values('Price Target upside', ascending=False)\n",
    "df"
   ]
  }
 ],
 "metadata": {
  "kernelspec": {
   "display_name": "Python 3",
   "language": "python",
   "name": "python3"
  },
  "language_info": {
   "codemirror_mode": {
    "name": "ipython",
    "version": 2
   },
   "file_extension": ".py",
   "mimetype": "text/x-python",
   "name": "python",
   "nbconvert_exporter": "python",
   "pygments_lexer": "ipython2",
   "version": "2.7.6"
  }
 },
 "nbformat": 4,
 "nbformat_minor": 5
}
