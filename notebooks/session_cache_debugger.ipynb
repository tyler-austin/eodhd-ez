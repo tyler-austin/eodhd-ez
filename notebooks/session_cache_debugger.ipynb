{
 "cells": [
  {
   "cell_type": "code",
   "execution_count": null,
   "id": "initial_id",
   "metadata": {
    "collapsed": true
   },
   "outputs": [],
   "source": [
    "import os\n",
    "\n",
    "from dotenv import load_dotenv\n",
    "from requests_cache import CachedSession\n",
    "\n",
    "load_dotenv()\n",
    "api_key = os.environ.get('EODHD_API_KEY')\n",
    "\n",
    "repo_dir = os.path.dirname(os.getcwd())\n",
    "assert os.path.exists(repo_dir)\n",
    "\n",
    "cache_dir = os.path.join(repo_dir, 'cache')\n",
    "os.makedirs(cache_dir, exist_ok=True)\n",
    "\n",
    "cache_path = os.path.join(cache_dir, 'eodhdez_cache.sqlite')\n",
    "\n",
    "session = CachedSession(cache_name=cache_path)\n",
    "\n",
    "cache_key = '<cache-key>'\n",
    "cached_response = session.cache.responses.get(cache_key)\n",
    "\n",
    "if cached_response:\n",
    "    print(f\"URL: {cached_response.url}\")\n",
    "    print(f\"Status Code: {cached_response.status_code}\")\n",
    "    print(f\"Headers: {cached_response.headers}\")\n",
    "    print(f\"Content: {cached_response.content.decode('utf-8')}\")\n",
    "else:\n",
    "    print(\"No cached response found for the given key.\")"
   ]
  }
 ],
 "metadata": {
  "kernelspec": {
   "display_name": "Python 3",
   "language": "python",
   "name": "python3"
  },
  "language_info": {
   "codemirror_mode": {
    "name": "ipython",
    "version": 2
   },
   "file_extension": ".py",
   "mimetype": "text/x-python",
   "name": "python",
   "nbconvert_exporter": "python",
   "pygments_lexer": "ipython2",
   "version": "2.7.6"
  }
 },
 "nbformat": 4,
 "nbformat_minor": 5
}
