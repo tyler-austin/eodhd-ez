{
 "cells": [
  {
   "cell_type": "code",
   "execution_count": null,
   "id": "initial_id",
   "metadata": {
    "collapsed": true
   },
   "outputs": [],
   "source": [
    "import os\n",
    "\n",
    "import pandas as pd\n",
    "\n",
    "file_name = '<filename>.xlsx'\n",
    "\n",
    "repo_dir = os.path.dirname(os.getcwd())\n",
    "assert os.path.exists(repo_dir)\n",
    "\n",
    "data_dir = os.path.join(repo_dir, 'data')\n",
    "os.makedirs(data_dir, exist_ok=True)\n",
    "\n",
    "morningstar_dir = os.path.join(repo_dir, 'morningstar')\n",
    "os.makedirs(morningstar_dir, exist_ok=True)\n",
    "\n",
    "file_path = os.path.join(morningstar_dir, file_name)\n",
    "\n",
    "df = pd.read_excel(file_path)\n",
    "df"
   ]
  },
  {
   "cell_type": "code",
   "execution_count": null,
   "id": "460cf3b521a8e61f",
   "metadata": {},
   "outputs": [],
   "source": [
    "def filter_fn(temp):\n",
    "\treturn temp[\n",
    "\t\t(temp['Total Return (1Y)'] > 80) &\n",
    "        (temp['Total Return (9M)'] > 75) &\n",
    "        (temp['Total Return (6M)'] > 60) &\n",
    "        (temp['Total Return (3M)'] > 25) &\n",
    "        (temp['Total Return (2M)'] > 20) &\n",
    "        (temp['Total Return (1M)'] > 10) &\n",
    "        (temp['Total Return (1W)'] > 1)\n",
    "    ]\n",
    "\n",
    "df = filter_fn(df)\n",
    "df"
   ]
  }
 ],
 "metadata": {
  "kernelspec": {
   "display_name": "Python 3",
   "language": "python",
   "name": "python3"
  },
  "language_info": {
   "codemirror_mode": {
    "name": "ipython",
    "version": 2
   },
   "file_extension": ".py",
   "mimetype": "text/x-python",
   "name": "python",
   "nbconvert_exporter": "python",
   "pygments_lexer": "ipython2",
   "version": "2.7.6"
  }
 },
 "nbformat": 4,
 "nbformat_minor": 5
}
