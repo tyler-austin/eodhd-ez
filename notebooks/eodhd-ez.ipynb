{
 "cells": [
  {
   "cell_type": "code",
   "id": "initial_id",
   "metadata": {
    "collapsed": true
   },
   "source": [
    "import os\n",
    "from datetime import datetime as dt\n",
    "from datetime import timezone as tz\n",
    "\n",
    "repo_dir = os.path.dirname(os.getcwd())\n",
    "assert os.path.exists(repo_dir)\n",
    "\n",
    "logging_dir = os.path.join(repo_dir, 'logs')\n",
    "os.makedirs(logging_dir, exist_ok=True)\n",
    "\n",
    "data_dir = os.path.join(repo_dir, 'data')\n",
    "os.makedirs(data_dir, exist_ok=True)\n",
    "\n",
    "fundamentals_dir = os.path.join(data_dir, 'fundamentals')\n",
    "os.makedirs(fundamentals_dir, exist_ok=True)\n",
    "\n",
    "daily_date_str = dt.now(tz.utc).strftime('%Y%m%d')\n",
    "daily_fundamentals_dir = os.path.join(fundamentals_dir, f'{daily_date_str}')\n",
    "\n",
    "file_paths = []\n",
    "\n",
    "if os.path.exists(daily_fundamentals_dir):\n",
    "\tfile_paths = [\n",
    "\t\tos.path.join(daily_fundamentals_dir, f)\n",
    "\t\tfor f in os.listdir(daily_fundamentals_dir) if\n",
    "\t\tos.path.isfile(os.path.join(daily_fundamentals_dir, f))\n",
    "\t]\n",
    "else:\n",
    "\tprint(f'Directory {daily_fundamentals_dir} does not exist')\n",
    "\n",
    "print(f'Found {len(file_paths)} files in {daily_fundamentals_dir}')"
   ],
   "outputs": [],
   "execution_count": null
  },
  {
   "metadata": {},
   "cell_type": "code",
   "source": [
    "import json\n",
    "\n",
    "ticker_fundamentals = {}\n",
    "non_standard_data = []\n",
    "\n",
    "\n",
    "def check_fundamental_data(data):\n",
    "\tif 'General' not in data:\n",
    "\t\treturn False\n",
    "\tif 'Code' not in data['General']:\n",
    "\t\treturn False\n",
    "\treturn True\n",
    "\n",
    "\n",
    "def load_fundamentals(path):\n",
    "\twith open(path, 'r') as f:\n",
    "\t\tdata = json.load(f)\n",
    "\tif check_fundamental_data(data):\n",
    "\t\tcode = data['General']['Code']\n",
    "\telse:\n",
    "\t\tnon_standard_data.append(path)\n",
    "\t\treturn None, None\n",
    "\treturn code, data\n",
    "\n",
    "\n",
    "for file_path in file_paths:\n",
    "\tticker, fundamentals = load_fundamentals(file_path)\n",
    "\tif ticker is not None:\n",
    "\t\tticker_fundamentals[ticker] = fundamentals\n",
    "\n",
    "print(f'Loaded {len(ticker_fundamentals.keys())} tickers')\n",
    "print(f'Found {len(non_standard_data)} non-standard data files')"
   ],
   "id": "1677719006cc49de",
   "outputs": [],
   "execution_count": null
  }
 ],
 "metadata": {
  "kernelspec": {
   "display_name": "Python 3",
   "language": "python",
   "name": "python3"
  },
  "language_info": {
   "codemirror_mode": {
    "name": "ipython",
    "version": 2
   },
   "file_extension": ".py",
   "mimetype": "text/x-python",
   "name": "python",
   "nbconvert_exporter": "python",
   "pygments_lexer": "ipython2",
   "version": "2.7.6"
  }
 },
 "nbformat": 4,
 "nbformat_minor": 5
}
