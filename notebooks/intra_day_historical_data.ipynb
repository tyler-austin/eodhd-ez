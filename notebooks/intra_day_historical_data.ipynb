{
 "cells": [
  {
   "cell_type": "code",
   "execution_count": null,
   "id": "c953c9cafa72bcda",
   "metadata": {},
   "outputs": [],
   "source": [
    "import os\n",
    "\n",
    "from dotenv import load_dotenv\n",
    "\n",
    "from eodhd_ez import EODHDEZClient\n",
    "\n",
    "load_dotenv()\n",
    "\n",
    "api_key = os.environ.get('EODHD_API_KEY')\n",
    "ez = EODHDEZClient(api_key)\n",
    "\n",
    "exchange = 'US'\n",
    "symbol = 'AAPL'\n",
    "ticker = f'{symbol}.{exchange}'\n",
    "interval = '5m'\n",
    "\n",
    "hist = ez.get_intraday_historical_data(ticker, interval)\n",
    "hist"
   ]
  }
 ],
 "metadata": {
  "kernelspec": {
   "display_name": "Python 3",
   "language": "python",
   "name": "python3"
  },
  "language_info": {
   "codemirror_mode": {
    "name": "ipython",
    "version": 2
   },
   "file_extension": ".py",
   "mimetype": "text/x-python",
   "name": "python",
   "nbconvert_exporter": "python",
   "pygments_lexer": "ipython2",
   "version": "2.7.6"
  }
 },
 "nbformat": 4,
 "nbformat_minor": 5
}
