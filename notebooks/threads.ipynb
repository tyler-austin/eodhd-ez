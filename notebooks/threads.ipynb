{
 "cells": [
  {
   "cell_type": "code",
   "execution_count": 1,
   "id": "initial_id",
   "metadata": {
    "ExecuteTime": {
     "end_time": "2024-11-02T13:10:25.497849Z",
     "start_time": "2024-11-02T13:10:25.475332Z"
    },
    "collapsed": true
   },
   "outputs": [
    {
     "name": "stdout",
     "output_type": "stream",
     "text": [
      "Error getting sysctl value for kern.thread_max: Command '['sysctl', 'kern.thread_max']' returned non-zero exit status 1.\n",
      "Unable to retrieve 'kern.thread_max'\n",
      "Current number of threads in use: 40960\n"
     ]
    },
    {
     "name": "stderr",
     "output_type": "stream",
     "text": [
      "sysctl: unknown oid 'kern.thread_max'\n"
     ]
    }
   ],
   "source": [
    "import math\n",
    "import subprocess\n",
    "\n",
    "\n",
    "def get_sysctl_value(name):\n",
    "    \"\"\"\n",
    "    Retrieve a sysctl kernel parameter value.\n",
    "    \"\"\"\n",
    "    try:\n",
    "        result = subprocess.check_output(['sysctl', name])\n",
    "        # Extract the value after the colon and any spaces\n",
    "        value = int(result.decode().split(':')[-1].strip())\n",
    "        return value\n",
    "    except Exception as e:\n",
    "        print(f\"Error getting sysctl value for {name}: {e}\")\n",
    "        return None\n",
    "\n",
    "\n",
    "# Get the maximum number of threads allowed in the system\n",
    "max_threads_in_system = get_sysctl_value('kern.thread_max')\n",
    "if max_threads_in_system is None:\n",
    "    print(\"Unable to retrieve 'kern.thread_max'\")\n",
    "else:\n",
    "\tprint(f\"Maximum number of threads in system: {max_threads_in_system}\")\n",
    "\n",
    "# Get the current number of threads in use in the system\n",
    "current_threads_in_system = get_sysctl_value('kern.num_threads')\n",
    "if current_threads_in_system is None:\n",
    "    print(\"Unable to retrieve 'kern.num_threads'\")\n",
    "else:\n",
    "    print(f\"Current number of threads in use: {current_threads_in_system}\")\n",
    "\n",
    "if max_threads_in_system is not None and current_threads_in_system is not None:\n",
    "    # Calculate the number of available threads\n",
    "    threads_available = max_threads_in_system - current_threads_in_system\n",
    "    print(f\"Threads available: {threads_available}\")\n",
    "    \n",
    "    # Calculate 75% of available threads, rounded down to the nearest whole number\n",
    "    threads_to_use = int(math.floor(threads_available * 0.75))\n",
    "    print(f\"75% of available threads (rounded down): {threads_to_use}\")\n"
   ]
  }
 ],
 "metadata": {
  "kernelspec": {
   "display_name": "Python 3",
   "language": "python",
   "name": "python3"
  },
  "language_info": {
   "codemirror_mode": {
    "name": "ipython",
    "version": 2
   },
   "file_extension": ".py",
   "mimetype": "text/x-python",
   "name": "python",
   "nbconvert_exporter": "python",
   "pygments_lexer": "ipython2",
   "version": "2.7.6"
  }
 },
 "nbformat": 4,
 "nbformat_minor": 5
}
